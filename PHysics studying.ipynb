{
 "cells": [
  {
   "cell_type": "markdown",
   "metadata": {},
   "source": [
    "# Every Important Physics Equation"
   ]
  },
  {
   "cell_type": "markdown",
   "metadata": {},
   "source": [
    "## Current Density, Drift Velocity, Resistivity\n",
    "\n",
    "Current density: $J=\\frac IA=qnv_d$, A is area.  \n",
    "Current density is a vector, $\\vec{ J}=qn\\vec v_d$  \n",
    "How to find current density in a copper wire if its electron density is $8.5\\times 10^{28}$?  \n",
    "$A=\\pi r^2=\\pi\\big(\\frac{1.02*10^{-3}}{2}\\big)^2=8.2\\times 10^{-7}$\n",
    "$J=\\frac{1.67}{8.2\\times 10^{-7}=2\\times 10^6}$  \n",
    "How to find drift velocity?\n",
    "$J=(8.5\\times 10^{28})(1.6\\times 10^{-19})v_d=2\\times 10^6$, solve.\n",
    "\n",
    "Resistivity: ratio of electric field in material to its current density. $\\rho=\\frac EJ$  \n",
    "Resistivity is dependent on temperature, and is 0 for a perfect conductor, and $\\infty$ for a perfect insulator.  \n",
    "Resistivity of a material being temperature dependent can be found with this:  \n",
    "$\\rho(T)=\\rho_0[1+\\alpha(T-T_0)]$  \n",
    "\n",
    "Resistance of a conductor: $R=\\frac{\\rho L}{A}$"
   ]
  },
  {
   "cell_type": "markdown",
   "metadata": {},
   "source": [
    "## EMF\n",
    "\n",
    "$V_{ab}=\\epsilon-Ir=IR$, where $r$ is the internal resistance of the EMF source (battery). Alternatively, $I=\\frac{\\epsilon}{R+r}$.\n",
    "\n",
    "Ammeters have ideally zero resistance and should be hooked up in series, while a voltmeter has ideally infinite resistance and should be hooked up in parallel. \n",
    "\n",
    "The net change of electric potential (V) around a circuit should be zero: $\\epsilon-IR-Ir=0$\n",
    "\n",
    "Electric power: $P=IV=I^2R=\\frac{V^2}{R}$. Power is the rate at which work is done. \n",
    "\n",
    "Total power supplied by a battery: $P_\\epsilon=\\epsilon I$\n",
    "\n"
   ]
  },
  {
   "cell_type": "markdown",
   "metadata": {},
   "source": [
    "## Resistors\n",
    "\n",
    "Resistors in series end up with a larger net resistance than resistors in parallel, since in series the current must travel through all resistors, while in parallel the current may be split up. \n",
    "\n",
    "In series: $R_{eq}=R_1+R_2+\\ldots$ \n",
    "\n",
    "In parallel: $\\frac{1}{R_{eq}}=\\frac{1}{R_1}+\\frac{1}{R_2}+\\ldots$  \n",
    "\n",
    "__Junction__: a point where current can split, or where 3 or more conductors meet.  \n",
    "__Loop__: Any closed conducting path.\n",
    "\n",
    "\n",
    "Junction rule: $\\sum_i{I_i}=0$ at any junction.\n",
    "\n",
    "Loop rule: $\\sum_i{V_i}=0$ around any loop."
   ]
  },
  {
   "cell_type": "markdown",
   "metadata": {},
   "source": [
    "## RC Circuits\n",
    "\n",
    "An RC circuit contains a series combination of a resistor and capacitor, where the current is the same everywhere at any particular time.\n",
    "\n",
    "Exponentials for charging a capacitor in RC: $q(t)=Q_f(1-e^{\\frac{-t}{\\tau}})$, $i(t)=I_0e^{\\frac{-t}{\\tau}}$, where $\\tau=RC$ is the time constant.\n",
    "\n",
    "Exponentials for discharging a capacitor in RC (with no battery in circuit): $q(t)=Qe^{\\frac{-t}{\\tau}}$, $I(t)=-\\frac{\\epsilon}{R}e^{\\frac{-t}{\\tau}}$\n",
    "\n",
    "The faster the exponentials grow, the lower the time constant is. The slower they grow, the higher the time constant is.\n",
    "\n",
    "In an RC circuit, assume that the initial state of the circuit has its switch closed, so that the capacitor is unable to charge. When the switch closes, current will begin to pass thru the resistor and charge the capacitor. Once the capacitor is fully charged, no more current flows in the circuit. \n",
    "\n",
    "Energy: the power supplied by a battery is $P=VI=\\epsilon i$. Total energy supplied $U=\\int{P\\,dt}=\\epsilon\\int{\\frac{dq}{dt}\\,dt}=\\epsilon\\int_0^{Q_f}{dq}$\n",
    "\n",
    "Total energy supplied: $U=\\epsilon Q_f$, where the amount of energy stored in the capacitor is $\\frac12Q_f\\epsilon$, meaning one half of the energy from the battery. The other half of the energy is dissipated as heat from the resistor, being $U_R=\\frac{12}{\\epsilon^2}{C}$, and $\\epsilon C=Q_f$.\n",
    "\n"
   ]
  },
  {
   "cell_type": "markdown",
   "metadata": {},
   "source": [
    "## Magnetic Fields\n",
    "\n",
    "- Any moving electric charge creates a magnetic field in the space surrounding it.\n",
    "- Magnetic field lines are always continuous loops with no beginning or end.\n",
    "- There are no magnetic monopoles.\n",
    "- Magnetic force is always perpendicular to B-field line (electric force in same direction as line)\n",
    "\n",
    "SI unit of magnetic field is Tesla T, which is equivalent to $10^4$ G, gauss.\n",
    "\n",
    "Magnetic flux is $\\Phi_B=\\int{\\vec{B}\\cdot \\vec{dA}}$, and the change in magnetic flux $d\\Phi_B=\\vec{B}\\cdot \\vec{dA}=Bcos\\theta dA$  \n",
    "\n",
    "The total magnetic flux thru a closed surface is always zero. "
   ]
  },
  {
   "cell_type": "markdown",
   "metadata": {},
   "source": [
    "## Right Hand Rule Stuff\n",
    "\n",
    "1. Point fingers in direction of $\\vec{v}$.\n",
    "2. Curl them towards $\\vec{B}$.\n",
    "3. Your upright thumb shows the direction of the magnetic force on a POSITIVE particle. \n",
    "\n",
    "For a negative particle, either do the right hand rule and flip it, or do the left hand rule. \n",
    "\n",
    "Magnetic field lines coming out of the paper are dots, and magnetic field lines going into the paper are crosses. \n",
    "\n",
    "$\\vec{F}=q\\vec{v}\\times\\vec{B}$, where $q=\\textrm{charge}, \\vec{v}=\\textrm{velocity}, \\vec{B}=\\textrm{magnetic field.}$\n",
    "\n",
    "The vector field $\\vec{B}$ is similar to vector field $\\vec{E}$, but some differences. $|\\vec{F}_B|=qvB\\sin\\theta$\n",
    "\n",
    "Anything cross product with itself is 0. \n",
    "\n",
    "$\\hat{i}\\times\\hat{k}=-\\hat{j}$  \n",
    "$\\hat{i}\\times\\hat{j}=\\hat{k}$  \n",
    "$\\hat{j}\\times\\hat{k}=\\hat{i}$\n",
    "\n",
    "opposite cross products - just flip signs"
   ]
  },
  {
   "cell_type": "markdown",
   "metadata": {},
   "source": [
    "### Magnetic Field Motion\n",
    "\n",
    "When the velocity is perpendicular to the magnetic field, the particle moves in a circular path. \n",
    "\n",
    "$F_B=qvB=\\frac{mv^2}{r}$. \n",
    "\n",
    "$a=\\frac{v^2}{r}, F=ma$\n",
    "\n",
    "Angular frequency(velocity): $\\omega=\\frac vr$\n",
    "\n",
    "Cyclontron frequency $f=\\frac{\\omega}{2\\pi}=\\frac qm\\frac{B}{2\\pi}$\n",
    "\n",
    "Lorentz Force, total force of magnetic and electric fields: $\\vec{F}=q\\vec{E}+q\\vec{v}\\times\\vec{B}$\n",
    "\n",
    "For a velocity selector, there are two forces: an electric field going from positive to negative, and a magnetic field going into the page. For the particle to go straight, the two forces must be equal to each other. $F_E=F_B, v=\\frac{E}{B}$.\n",
    "\n",
    "Discovery of first electron: electron to mass ratio. $\\frac em=\\frac{E^2}{B^2}\\frac{1}{2V}$\n",
    "\n",
    "Mass spectrometer: selects particles of a certain velocity, once the particle exits, the particle is manipulated by another magnetic field, which curves it. The radius between it and the detector can be used to find the mass. \n",
    "\n",
    "$v=\\frac{E}{B_1}$, $r=\\frac mq\\frac{E}{B_1B_2}$"
   ]
  },
  {
   "cell_type": "markdown",
   "metadata": {},
   "source": [
    "## Magnetic force on a current carrying wire\n",
    "\n",
    "if no current and magnetic field, wire does not bend.  \n",
    "If current is upward, wire moves to left, and if current is downward, wire moves to right. It's the same right hand rule as before.\n",
    "\n",
    "Magnetic force on a wire is $\\vec{F_b}=I\\vec{L}\\times\\vec{B}$"
   ]
  },
  {
   "cell_type": "markdown",
   "metadata": {},
   "source": [
    "## Magnetic force and torque\n",
    "\n",
    "come back to magnetic force on a curved wire. \n",
    "\n",
    "$\\tau_{max}=IAB, \\vec{\\tau}=I\\vec{A}\\times\\vec{B}$\n",
    "\n",
    "Net torque about point O will be $\\tau=IAB\\sin\\theta$\n",
    "\n",
    "If current is parallel to the magnetic field, there will be no force\n",
    "\n",
    "Magnetic dipole moment $\\vec\\mu=I\\vec{A}$, then torque is $\\vec\\tau=\\vec\\mu\\times\\vec B$\n",
    "\n",
    "To find the direction of $\\vec\\mu$, curl fingers in the direction of current around a loop. The direction of thumb points in direction of $\\mu$ and area vector.\n",
    "\n",
    "Potential energy: $U=-\\vec\\mu\\cdot\\vec B$. $U_{min}=-\\mu B$, occurs when dipolem moment is in same direction as field. $U_{max}=\\mu B$, occurs when dipole is in opposite direction opposite to the field.\n",
    "\n",
    "$\\vec\\mu=IN\\vec A$, where N is the number of coils around a circle."
   ]
  },
  {
   "cell_type": "markdown",
   "metadata": {},
   "source": [
    "## B-field of moving charge\n",
    "\n",
    "A moving charge generates a magnetic field which depends on the velocity of the charge.\n",
    "\n",
    "$B=\\frac{\\mu_0}{4\\pi}\\frac{|q|v\\sin\\phi}{r^2}$.\n",
    "\n",
    "In vector form, $\\vec{B}=\\frac{\\mu_0}{4\\pi}\\frac{q\\vec{v}\\times\\hat{r}}{r^2}$. $\\vec{r}=r\\hat{r}$\n",
    "\n",
    "$\\mu_0=4\\pi\\times10^{-7}$, permeability of free space\n",
    "\n",
    "interestingly, speed of light $c=\\frac{1}{\\sqrt{\\mu_0\\epsilon_0}}$\n",
    "\n",
    "B field over a long wire: $B=\\frac{\\mu_0 I}{2\\pi r}$\n",
    "\n",
    "Force between parallel conductors (two wires): $\\frac FL=\\frac{\\mu_0 I I'}{2\\pi r}$\n",
    "\n"
   ]
  },
  {
   "cell_type": "markdown",
   "metadata": {},
   "source": [
    "For a solenoid, ampere's law: \n",
    "\n",
    "$BL=\\mu_0 I_{encl}, B=\\mu_0\\frac{N}{l}I=\\mu_0nI$\n",
    "\n",
    "$BL=\\mu_0 I_{encl}, I_{encl}=\\frac{BL}{\\mu_0}$\n",
    "\n",
    "\n",
    "Remember the following:\n",
    "\n",
    "$\\epsilon=-N\\frac{d\\Phi_B}{dt}$\n",
    "\n",
    "For a slidewire generator with length L and slidewire moving with velocity v:\n",
    "\n",
    "$N=1, \\frac{d\\Phi_B}{dt}=B\\frac{dA}{dt}, \\frac{dA}{dt}=L*v, \\epsilon=-BLv$"
   ]
  },
  {
   "cell_type": "code",
   "execution_count": null,
   "metadata": {},
   "outputs": [],
   "source": []
  }
 ],
 "metadata": {
  "kernelspec": {
   "display_name": "Python 3",
   "language": "python",
   "name": "python3"
  },
  "language_info": {
   "codemirror_mode": {
    "name": "ipython",
    "version": 3
   },
   "file_extension": ".py",
   "mimetype": "text/x-python",
   "name": "python",
   "nbconvert_exporter": "python",
   "pygments_lexer": "ipython3",
   "version": "3.6.7"
  }
 },
 "nbformat": 4,
 "nbformat_minor": 2
}
